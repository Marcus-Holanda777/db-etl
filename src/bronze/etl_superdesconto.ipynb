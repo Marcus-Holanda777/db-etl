{
 "cells": [
  {
   "cell_type": "code",
   "execution_count": 0,
   "metadata": {
    "application/vnd.databricks.v1+cell": {
     "cellMetadata": {
      "byteLimit": 2048000,
      "rowLimit": 10000
     },
     "inputWidgets": {},
     "nuid": "755da940-2758-45a2-974f-c66689ecc90c",
     "showTitle": true,
     "tableResultSettingsMap": {},
     "title": "IMPORTS"
    }
   },
   "outputs": [],
   "source": [
    "from delta.tables import DeltaTable\n",
    "from pyspark.sql.functions import col, udf\n",
    "from pyspark.sql import DataFrame, Column\n",
    "from pyspark.sql.window import Window\n",
    "import pyspark.sql.functions as F\n",
    "import pyspark.sql.types as T\n",
    "\n",
    "cols_rename = [\n",
    "    \"filial\", \"cod_prod\", \n",
    "    \"periodo\", \"etiqueta\", \n",
    "    \"perc_dsc_cupom\", \"venda\", \n",
    "    \"venda_desconto\"\n",
    "]\n",
    "\n",
    "cols_cosmos = [\n",
    "    \"MVVC_CD_FILIAL_MOV\",\n",
    "    \"MVVP_NR_PRD\",\n",
    "    \"MVVC_DT_MOV\",\n",
    "    \"NUMERO_AUTORIZ_PAGUEMENOS\",\n",
    "    \"MVVP_PR_DSC_ITE\",\n",
    "    \"MVVP_VL_PRE_VDA\",\n",
    "    \"MVVP_VL_PRD_VEN\",\n",
    "]\n",
    "\n",
    "cols_pre_venda = [\n",
    "    \"VC_CD_FILIAL\",\n",
    "    \"VD_CD_PRODUTO\",\n",
    "    \"VC_DH_VENDA\",\n",
    "    \"VD_COD_ETIQUETA_ULCH\",\n",
    "    \"VD_PERC_DESCONTO\",\n",
    "    \"VD_VL_PRODUTO\",\n",
    "    \"VD_VL_PRODUTO_COM_DESCONTO\",\n",
    "]"
   ]
  },
  {
   "cell_type": "code",
   "execution_count": 0,
   "metadata": {
    "application/vnd.databricks.v1+cell": {
     "cellMetadata": {
      "byteLimit": 2048000,
      "rowLimit": 10000
     },
     "inputWidgets": {},
     "nuid": "c0d7c5cc-282a-49ad-ac6b-76c095aca721",
     "showTitle": true,
     "tableResultSettingsMap": {},
     "title": "UTILS"
    }
   },
   "outputs": [],
   "source": [
    "def table_exists(\n",
    "    catalog: str, \n",
    "    schema: str, \n",
    "    tablename: str\n",
    ") -> bool:\n",
    "    \n",
    "    return spark.catalog.tableExists(f\"{catalog}.{schema}.{tablename}\")\n",
    "\n",
    "def etiqueta(colname: str) -> Column:\n",
    "    return F.lpad(F.trim(colname), 30, \"0\").cast(T.StringType())"
   ]
  },
  {
   "cell_type": "code",
   "execution_count": 0,
   "metadata": {
    "application/vnd.databricks.v1+cell": {
     "cellMetadata": {
      "byteLimit": 2048000,
      "rowLimit": 10000
     },
     "inputWidgets": {},
     "nuid": "4368e7f3-53b7-4671-a4b9-87c8685b161f",
     "showTitle": false,
     "tableResultSettingsMap": {},
     "title": ""
    }
   },
   "outputs": [],
   "source": [
    "def view_cupom(\n",
    "    path: str, \n",
    "    year: int, \n",
    "    month: int, \n",
    "    columns: list[str]\n",
    ") -> DataFrame:\n",
    "    \n",
    "    col_etiqueta = columns[3]\n",
    "\n",
    "    return (\n",
    "        spark.read.parquet(f\"/Volumes/raw/super_desconto/{path}/{year}/{month:02d}/\")\n",
    "        .select(columns)\n",
    "        .withColumn(col_etiqueta, etiqueta(col_etiqueta))\n",
    "        .withColumnsRenamed(dict(zip(columns, cols_rename)))\n",
    "    )\n",
    "\n",
    "windows = Window.partitionBy(\"etiqueta\").orderBy(col(\"venda_desconto\").desc())\n",
    "\n",
    "tables = (\n",
    "    view_cupom(\"COSMOSMOV\", 2023, 1, cols_cosmos)\n",
    "    .union(view_cupom(\"PRE_VENDA\", 2023, 1, cols_pre_venda))\n",
    "    .withColumn(\"id\", F.row_number().over(windows))\n",
    "    .filter(col(\"id\") == 1)\n",
    "    .drop(\"id\")\n",
    ")\n",
    "\n",
    "tables.write.format(\"delta\").mode(\"overwrite\").saveAsTable(\"bronze.super_desconto.venda\")"
   ]
  },
  {
   "cell_type": "code",
   "execution_count": 0,
   "metadata": {
    "application/vnd.databricks.v1+cell": {
     "cellMetadata": {
      "byteLimit": 2048000,
      "implicitDf": true,
      "rowLimit": 10000
     },
     "inputWidgets": {},
     "nuid": "94dcff57-4ff4-40cc-a17f-a63383ef5ed5",
     "showTitle": false,
     "tableResultSettingsMap": {},
     "title": ""
    }
   },
   "outputs": [],
   "source": [
    "%sql\n",
    "\n",
    "select sum(venda_desconto) from bronze.super_desconto.venda"
   ]
  }
 ],
 "metadata": {
  "application/vnd.databricks.v1+notebook": {
   "computePreferences": null,
   "dashboards": [],
   "environmentMetadata": {
    "base_environment": "",
    "client": "1"
   },
   "language": "python",
   "notebookMetadata": {
    "mostRecentlyExecutedCommandWithImplicitDF": {
     "commandId": 6021963279527474,
     "dataframes": [
      "_sqldf"
     ]
    },
    "pythonIndentUnit": 4
   },
   "notebookName": "etl_superdesconto",
   "widgets": {}
  },
  "language_info": {
   "name": "python"
  }
 },
 "nbformat": 4,
 "nbformat_minor": 0
}
